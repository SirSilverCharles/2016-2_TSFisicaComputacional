{
 "cells": [
  {
   "cell_type": "code",
   "execution_count": 1,
   "metadata": {
    "collapsed": false
   },
   "outputs": [
    {
     "data": {
      "text/plain": [
       "Dual"
      ]
     },
     "execution_count": 1,
     "metadata": {},
     "output_type": "execute_result"
    }
   ],
   "source": [
    "type Dual\n",
    "    fun::Real\n",
    "    der::Real\n",
    "end\n",
    "Dual(a::Real) = Dual(a,0)"
   ]
  },
  {
   "cell_type": "code",
   "execution_count": 2,
   "metadata": {
    "collapsed": false
   },
   "outputs": [
    {
     "data": {
      "text/plain": [
       "Dual(15.1,3)"
      ]
     },
     "execution_count": 2,
     "metadata": {},
     "output_type": "execute_result"
    }
   ],
   "source": [
    "#Test\n",
    "d=Dual(15.1,3)\n",
    "f(x)=x\n",
    "f(d)"
   ]
  },
  {
   "cell_type": "code",
   "execution_count": 3,
   "metadata": {
    "collapsed": false
   },
   "outputs": [
    {
     "data": {
      "text/plain": [
       "promote_rule (generic function with 126 methods)"
      ]
     },
     "execution_count": 3,
     "metadata": {},
     "output_type": "execute_result"
    }
   ],
   "source": [
    "# Esto lo hice para no tener que definir +,-,*,etc entre un Dual y numeros de otro tipo,\n",
    "# que lo hiciera automaticamente, pero parace no funcionar no se porque.\n",
    "# http://docs.julialang.org/en/release-0.4/manual/conversion-and-promotion/\n",
    "import Base: convert, promote_rule\n",
    "convert(::Type{Dual},x::Real) = Dual(x,0)\n",
    "promote_rule(::Type{Dual}, ::Type{Int} ) = Dual\n",
    "promote_rule(::Type{Dual}, ::Type{Float64} ) = Dual"
   ]
  },
  {
   "cell_type": "code",
   "execution_count": 4,
   "metadata": {
    "collapsed": false
   },
   "outputs": [
    {
     "data": {
      "text/plain": [
       "Dual(1,0)"
      ]
     },
     "execution_count": 4,
     "metadata": {},
     "output_type": "execute_result"
    }
   ],
   "source": [
    "#Test\n",
    "convert(Dual,1)"
   ]
  },
  {
   "cell_type": "code",
   "execution_count": 5,
   "metadata": {
    "collapsed": false
   },
   "outputs": [
    {
     "data": {
      "text/plain": [
       "(Dual(15.1,3),Dual(1,0))"
      ]
     },
     "execution_count": 5,
     "metadata": {},
     "output_type": "execute_result"
    }
   ],
   "source": [
    "#Test\n",
    "promote(d,1)"
   ]
  },
  {
   "cell_type": "code",
   "execution_count": 6,
   "metadata": {
    "collapsed": false
   },
   "outputs": [
    {
     "data": {
      "text/plain": [
       "Dual(π = 3.1415926535897...,π = 3.1415926535897...)"
      ]
     },
     "execution_count": 6,
     "metadata": {},
     "output_type": "execute_result"
    }
   ],
   "source": [
    "# los Irracionales dan problemas: Dual(pi,pi)^1 == Dual(pi,pi) da false porque ^1\n",
    "# los convierte en float64, entonces los convertire en float desde el principio\n",
    "Dual(pi,pi)"
   ]
  },
  {
   "cell_type": "code",
   "execution_count": 29,
   "metadata": {
    "collapsed": false
   },
   "outputs": [
    {
     "data": {
      "text/plain": [
       "Dual"
      ]
     },
     "execution_count": 29,
     "metadata": {},
     "output_type": "execute_result"
    }
   ],
   "source": [
    "Dual(a::Irrational,b::Irrational) = Dual(convert(Float64,a),convert(Float64,b))\n",
    "Dual(a::Irrational,b::Real) = Dual(convert(Float64,a),convert(Float64,b))\n",
    "Dual(a::Real,b::Irrational) = Dual(convert(Float64,a),convert(Float64,b))"
   ]
  },
  {
   "cell_type": "code",
   "execution_count": 8,
   "metadata": {
    "collapsed": false
   },
   "outputs": [
    {
     "data": {
      "text/plain": [
       "Dual(3.141592653589793,3.141592653589793)"
      ]
     },
     "execution_count": 8,
     "metadata": {},
     "output_type": "execute_result"
    }
   ],
   "source": [
    "Dual(pi,pi)"
   ]
  },
  {
   "cell_type": "code",
   "execution_count": 9,
   "metadata": {
    "collapsed": false
   },
   "outputs": [
    {
     "data": {
      "text/plain": [
       "xdual (generic function with 1 method)"
      ]
     },
     "execution_count": 9,
     "metadata": {},
     "output_type": "execute_result"
    }
   ],
   "source": [
    "xdual(x0)=Dual(x0,1)"
   ]
  },
  {
   "cell_type": "code",
   "execution_count": 10,
   "metadata": {
    "collapsed": false
   },
   "outputs": [
    {
     "data": {
      "text/plain": [
       "Dual(1000,1)"
      ]
     },
     "execution_count": 10,
     "metadata": {},
     "output_type": "execute_result"
    }
   ],
   "source": [
    "#Test\n",
    "xdual(1000)"
   ]
  },
  {
   "cell_type": "code",
   "execution_count": 11,
   "metadata": {
    "collapsed": false
   },
   "outputs": [
    {
     "data": {
      "text/plain": [
       "print (generic function with 19 methods)"
      ]
     },
     "execution_count": 11,
     "metadata": {},
     "output_type": "execute_result"
    }
   ],
   "source": [
    "import Base: +, -, *, /, ^, == \n",
    "+(x::Dual,y::Dual) =Dual( x.fun+y.fun , x.der+y.der )\n",
    "-(x::Dual,y::Dual) =Dual( x.fun-y.fun , x.der-y.der )\n",
    "*(x::Dual,y::Dual) =Dual( x.fun*y.fun , (x.fun*y.der)+(y.fun*x.der) )\n",
    "/(x::Dual,y::Dual) =Dual( x.fun/y.fun , (x.der-((x.fun/y.fun)*y.der))/y.fun )\n",
    "\n",
    "+(x::Dual,y::Real) =Dual( x.fun+y , x.der )\n",
    "-(x::Dual,y::Real) =Dual( x.fun-y , x.der )\n",
    "*(x::Dual,y::Real) =x*convert(Dual,y)\n",
    "/(x::Dual,y::Real) =x/convert(Dual,y)\n",
    "\n",
    "+(y::Real,x::Dual) =Dual( x.fun+y , x.der )\n",
    "-(y::Real,x::Dual) =Dual( x.fun-y , x.der )\n",
    "*(y::Real,x::Dual) =x*convert(Dual,y)\n",
    "/(y::Real,x::Dual) =x/convert(Dual,y)\n",
    "\n",
    "^(x::Dual,a::Integer) =Dual( x.fun^a , a*(x.fun^(a-1))*x.der )\n",
    "^(x::Dual,a::Real) =Dual( x.fun^a , a*(x.fun^(a-1))*x.der )\n",
    "\n",
    "+(x::Dual) =Dual( +x.fun , +x.der )\n",
    "-(x::Dual) =Dual( -x.fun , -x.der )\n",
    "\n",
    "==(x::Dual,y::Dual)=(x.fun,x.der)==(y.fun,y.der)\n",
    "\n",
    "import Base: print,show\n",
    "show(io::IO,x::Dual)=print(io, x.fun,\" + \",x.der,\"ε\")\n",
    "print(io::IO,x::Dual)=show(io,x)"
   ]
  },
  {
   "cell_type": "code",
   "execution_count": 12,
   "metadata": {
    "collapsed": false
   },
   "outputs": [
    {
     "name": "stdout",
     "output_type": "stream",
     "text": [
      "a: 15 + 3ε\n",
      "b: 2 + 5ε\n",
      "a+b: 17 + 8ε\n",
      "a-b: 13 + -2ε\n",
      "a*b: 30 + 81ε\n",
      "a/b: 7.5 + -17.25ε\n",
      "a^2: 225 + 90ε\n"
     ]
    }
   ],
   "source": [
    "#Test\n",
    "a=Dual(15,3)\n",
    "b=Dual(2,5)\n",
    "c=2\n",
    "print(\"a: \",a,\"\\n\")\n",
    "print(\"b: \",b,\"\\n\")\n",
    "print(\"a+b: \",a+b,\"\\n\")\n",
    "print(\"a-b: \",a-b,\"\\n\")\n",
    "print(\"a*b: \",a*b,\"\\n\")\n",
    "print(\"a/b: \",a/b,\"\\n\")\n",
    "print(\"a^2: \",a^2,\"\\n\")\n",
    "print(\"a^.5: \",a^.5,\"\\n\")\n",
    "print(\"a==b: \",a==b,\"\\n\")\n",
    "print(\"a==a: \",a==a,\"\\n\")"
   ]
  },
  {
   "cell_type": "code",
   "execution_count": 13,
   "metadata": {
    "collapsed": false
   },
   "outputs": [
    {
     "name": "stdout",
     "output_type": "stream",
     "text": [
      "a^.5: 3.872983346207417 + 0.38729833462074165ε\n",
      "a==b: false\n",
      "a==a: true\n",
      "a: 3 + 1ε\n",
      "b: 1 + 1ε\n",
      "f(x)=x\n",
      "g(x)=x*x\n",
      "h(x)=3x^3-2\n",
      "\n",
      "f(a): "
     ]
    }
   ],
   "source": [
    "f(x)=x\n",
    "g(x)=x*x\n",
    "h(x)=3x^3-2\n",
    "a=Dual(3,1)\n",
    "b=xdual(1)\n",
    "\n",
    "print(\"a: \",a,\"\\n\")\n",
    "print(\"b: \",b,\"\\n\")\n",
    "print(\"f(x)=x\",\"\\n\")\n",
    "print(\"g(x)=x*x\",\"\\n\")\n",
    "print(\"h(x)=3x^3-2\",\"\\n\\n\")\n",
    "\n",
    "print(\"f(a): \",f(a),\"\\n\")\n",
    "print(\"g(a): \",g(a),\"\\n\")\n",
    "print(\"h(a): \",h(a),\"\\n\\n\")\n",
    "\n",
    "print(\"f(b): \",f(b),\"\\n\")\n",
    "print(\"g(b): \",g(b),\"\\n\")\n",
    "print(\"h(b): \",h(b),\"\\n\\n\")"
   ]
  },
  {
   "cell_type": "code",
   "execution_count": 14,
   "metadata": {
    "collapsed": true
   },
   "outputs": [],
   "source": [
    "# como vemos el valor de h'(1)=9"
   ]
  },
  {
   "cell_type": "code",
   "execution_count": 15,
   "metadata": {
    "collapsed": false
   },
   "outputs": [
    {
     "data": {
      "text/plain": [
       "0.0 + -0.3333333333333333ε"
      ]
     },
     "execution_count": 15,
     "metadata": {},
     "output_type": "execute_result"
    }
   ],
   "source": [
    "gtest(x) = (3x^2-8x+5)/(7x^3-1)\n",
    "gtest(xdual(1))"
   ]
  },
  {
   "cell_type": "code",
   "execution_count": null,
   "metadata": {
    "collapsed": true
   },
   "outputs": [],
   "source": [
    "using Base.Test"
   ]
  },
  {
   "cell_type": "code",
   "execution_count": 45,
   "metadata": {
    "collapsed": false
   },
   "outputs": [],
   "source": [
    "A=(0,1,7,0.0,1.0,7.0,pi,-1,-7)\n",
    "for (a in A)\n",
    "    for(b in A)\n",
    "        d=Dual(a,b);\n",
    "        c=xdual(a)\n",
    "        if(a!=0)\n",
    "            @test (d+d-d*d/d)^1==d\n",
    "            @test (d+a-a*a/a)^1==d\n",
    "            @test (c+d-d*d/d)^1==c\n",
    "        else\n",
    "            @test ((d+d-d)*d)^1==d*d\n",
    "            @test ((d+a-a)*a)^1==d*a\n",
    "            @test ((c+d-d)*d)^1==c*d\n",
    "        end\n",
    "    end\n",
    "end"
   ]
  }
 ],
 "metadata": {
  "kernelspec": {
   "display_name": "Julia 0.4.3",
   "language": "julia",
   "name": "julia-0.4"
  },
  "language_info": {
   "file_extension": ".jl",
   "mimetype": "application/julia",
   "name": "julia",
   "version": "0.4.3"
  }
 },
 "nbformat": 4,
 "nbformat_minor": 0
}
